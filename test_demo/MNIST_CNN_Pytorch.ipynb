{
 "cells": [
  {
   "cell_type": "code",
   "execution_count": 1,
   "id": "e5c7d594",
   "metadata": {},
   "outputs": [
    {
     "data": {
      "text/plain": [
       "'1.5.1+cpu'"
      ]
     },
     "execution_count": 1,
     "metadata": {},
     "output_type": "execute_result"
    }
   ],
   "source": [
    "import torch\n",
    "import torch.nn as nn\n",
    "from tqdm import tqdm\n",
    "import torch.nn.functional as F\n",
    "import torch.optim as optim\n",
    "from torchvision import datasets, transforms\n",
    "torch.__version__"
   ]
  },
  {
   "cell_type": "code",
   "execution_count": 2,
   "id": "63ec440b",
   "metadata": {},
   "outputs": [],
   "source": [
    "BATCH_SIZE=512 \n",
    "EPOCHS=10 "
   ]
  },
  {
   "cell_type": "code",
   "execution_count": 3,
   "id": "e79e3a87",
   "metadata": {},
   "outputs": [],
   "source": [
    "train_loader = torch.utils.data.DataLoader(\n",
    "        datasets.MNIST('data', train=True, download=True, \n",
    "                       transform=transforms.Compose([\n",
    "                           transforms.ToTensor(),\n",
    "                           transforms.Normalize((0.1307,), (0.3081,))\n",
    "                       ])),\n",
    "        batch_size=BATCH_SIZE, shuffle=True)"
   ]
  },
  {
   "cell_type": "code",
   "execution_count": 4,
   "id": "d654e7b6",
   "metadata": {},
   "outputs": [],
   "source": [
    "test_loader = torch.utils.data.DataLoader(\n",
    "        datasets.MNIST('data', train=False, transform=transforms.Compose([\n",
    "                           transforms.ToTensor(),\n",
    "                           transforms.Normalize((0.1307,), (0.3081,))\n",
    "                       ])),\n",
    "        batch_size=BATCH_SIZE, shuffle=True)"
   ]
  },
  {
   "cell_type": "code",
   "execution_count": 5,
   "id": "fd760f2e",
   "metadata": {},
   "outputs": [],
   "source": [
    "class ConvNet(nn.Module):\n",
    "    def __init__(self):\n",
    "        super().__init__()\n",
    "        # batch*1*28*28（每次会送入batch个样本，输入通道数1（黑白图像），图像分辨率是28x28）\n",
    "        # 下面的卷积层Conv2d的第一个参数指输入通道数，第二个参数指输出通道数，第三个参数指卷积核的大小\n",
    "        self.conv1 = nn.Conv2d(1, 10, 5) # 输入通道数1，输出通道数10，核的大小5\n",
    "        self.conv2 = nn.Conv2d(10, 20, 3) # 输入通道数10，输出通道数20，核的大小3\n",
    "        # 下面的全连接层Linear的第一个参数指输入通道数，第二个参数指输出通道数\n",
    "        self.fc1 = nn.Linear(20*10*10, 500) # 输入通道数是2000，输出通道数是500\n",
    "        self.fc2 = nn.Linear(500, 10) # 输入通道数是500，输出通道数是10，即10分类\n",
    "    def forward(self,x):\n",
    "        in_size = x.size(0) # 在本例中in_size=512，也就是BATCH_SIZE的值。输入的x可以看成是512*1*28*28的张量。\n",
    "        out = self.conv1(x) # batch*1*28*28 -> batch*10*24*24（28x28的图像经过一次核为5x5的卷积，输出变为24x24）\n",
    "        out = F.relu(out) # batch*10*24*24（激活函数ReLU不改变形状））\n",
    "        out = F.max_pool2d(out, 2, 2) # batch*10*24*24 -> batch*10*12*12（2*2的池化层会减半）\n",
    "        out = self.conv2(out) # batch*10*12*12 -> batch*20*10*10（再卷积一次，核的大小是3）\n",
    "        out = F.relu(out) # batch*20*10*10\n",
    "        out = out.view(in_size, -1) # batch*20*10*10 -> batch*2000（out的第二维是-1，说明是自动推算，本例中第二维是20*10*10）\n",
    "        out = self.fc1(out) # batch*2000 -> batch*500\n",
    "        out = F.relu(out) # batch*500\n",
    "        out = self.fc2(out) # batch*500 -> batch*10\n",
    "        out = F.log_softmax(out, dim=1) # 计算log(softmax(x))\n",
    "        return out"
   ]
  },
  {
   "cell_type": "code",
   "execution_count": 6,
   "id": "5d74a5d7",
   "metadata": {},
   "outputs": [],
   "source": [
    "model = ConvNet()\n",
    "optimizer = optim.Adam(model.parameters())"
   ]
  },
  {
   "cell_type": "code",
   "execution_count": 7,
   "id": "ac146e14",
   "metadata": {},
   "outputs": [],
   "source": [
    "def train(model, train_loader, optimizer, epoch):\n",
    "    model.train()\n",
    "    for batch_idx, (data, target) in enumerate(train_loader):\n",
    "#         data, target = data.to(device), target.to(device)\n",
    "        optimizer.zero_grad()\n",
    "        output = model(data)\n",
    "        loss = F.nll_loss(output, target)\n",
    "        loss.backward()\n",
    "        optimizer.step()\n",
    "        if(batch_idx+1)%30 == 0: \n",
    "            print('Train Epoch: {} [{}/{} ({:.0f}%)]\\tLoss: {:.6f}'.format(\n",
    "                epoch, batch_idx * len(data), len(train_loader.dataset),\n",
    "                100. * batch_idx / len(train_loader), loss.item()))"
   ]
  },
  {
   "cell_type": "code",
   "execution_count": 8,
   "id": "4711de09",
   "metadata": {},
   "outputs": [],
   "source": [
    "def test(model, test_loader):\n",
    "    model.eval()\n",
    "    test_loss = 0\n",
    "    correct = 0\n",
    "    with torch.no_grad():\n",
    "        for data, target in test_loader:\n",
    "#             data, target = data.to(device), target.to(device)\n",
    "            output = model(data)\n",
    "            test_loss += F.nll_loss(output, target, reduction='sum').item() # 将一批的损失相加\n",
    "            pred = output.max(1, keepdim=True)[1] # 找到概率最大的下标\n",
    "            correct += pred.eq(target.view_as(pred)).sum().item()\n",
    "\n",
    "    test_loss /= len(test_loader.dataset)\n",
    "    print('\\nTest set: Average loss: {:.4f}, Accuracy: {}/{} ({:.0f}%)\\n'.format(\n",
    "        test_loss, correct, len(test_loader.dataset),\n",
    "        100. * correct / len(test_loader.dataset)))"
   ]
  },
  {
   "cell_type": "code",
   "execution_count": 9,
   "id": "d9276ff9",
   "metadata": {},
   "outputs": [
    {
     "name": "stdout",
     "output_type": "stream",
     "text": [
      "Train Epoch: 1 [14848/60000 (25%)]\tLoss: 0.329449\n",
      "Train Epoch: 1 [30208/60000 (50%)]\tLoss: 0.181088\n",
      "Train Epoch: 1 [45568/60000 (75%)]\tLoss: 0.133177\n",
      "\n",
      "Test set: Average loss: 0.0849, Accuracy: 9742/10000 (97%)\n",
      "\n",
      "Train Epoch: 2 [14848/60000 (25%)]\tLoss: 0.073285\n",
      "Train Epoch: 2 [30208/60000 (50%)]\tLoss: 0.084014\n",
      "Train Epoch: 2 [45568/60000 (75%)]\tLoss: 0.057288\n",
      "\n",
      "Test set: Average loss: 0.0570, Accuracy: 9825/10000 (98%)\n",
      "\n",
      "Train Epoch: 3 [14848/60000 (25%)]\tLoss: 0.037996\n",
      "Train Epoch: 3 [30208/60000 (50%)]\tLoss: 0.049955\n",
      "Train Epoch: 3 [45568/60000 (75%)]\tLoss: 0.055528\n",
      "\n",
      "Test set: Average loss: 0.0444, Accuracy: 9853/10000 (99%)\n",
      "\n",
      "Train Epoch: 4 [14848/60000 (25%)]\tLoss: 0.026657\n",
      "Train Epoch: 4 [30208/60000 (50%)]\tLoss: 0.035521\n",
      "Train Epoch: 4 [45568/60000 (75%)]\tLoss: 0.027842\n",
      "\n",
      "Test set: Average loss: 0.0386, Accuracy: 9879/10000 (99%)\n",
      "\n",
      "Train Epoch: 5 [14848/60000 (25%)]\tLoss: 0.020139\n",
      "Train Epoch: 5 [30208/60000 (50%)]\tLoss: 0.042985\n",
      "Train Epoch: 5 [45568/60000 (75%)]\tLoss: 0.044836\n",
      "\n",
      "Test set: Average loss: 0.0387, Accuracy: 9879/10000 (99%)\n",
      "\n",
      "Train Epoch: 6 [14848/60000 (25%)]\tLoss: 0.024675\n",
      "Train Epoch: 6 [30208/60000 (50%)]\tLoss: 0.018058\n",
      "Train Epoch: 6 [45568/60000 (75%)]\tLoss: 0.016521\n",
      "\n",
      "Test set: Average loss: 0.0341, Accuracy: 9880/10000 (99%)\n",
      "\n",
      "Train Epoch: 7 [14848/60000 (25%)]\tLoss: 0.011757\n",
      "Train Epoch: 7 [30208/60000 (50%)]\tLoss: 0.038464\n",
      "Train Epoch: 7 [45568/60000 (75%)]\tLoss: 0.016073\n",
      "\n",
      "Test set: Average loss: 0.0336, Accuracy: 9889/10000 (99%)\n",
      "\n",
      "Train Epoch: 8 [14848/60000 (25%)]\tLoss: 0.006954\n",
      "Train Epoch: 8 [30208/60000 (50%)]\tLoss: 0.013517\n",
      "Train Epoch: 8 [45568/60000 (75%)]\tLoss: 0.031006\n",
      "\n",
      "Test set: Average loss: 0.0273, Accuracy: 9915/10000 (99%)\n",
      "\n",
      "Train Epoch: 9 [14848/60000 (25%)]\tLoss: 0.008029\n",
      "Train Epoch: 9 [30208/60000 (50%)]\tLoss: 0.017090\n",
      "Train Epoch: 9 [45568/60000 (75%)]\tLoss: 0.011202\n",
      "\n",
      "Test set: Average loss: 0.0304, Accuracy: 9902/10000 (99%)\n",
      "\n",
      "Train Epoch: 10 [14848/60000 (25%)]\tLoss: 0.038370\n",
      "Train Epoch: 10 [30208/60000 (50%)]\tLoss: 0.009973\n",
      "Train Epoch: 10 [45568/60000 (75%)]\tLoss: 0.008553\n",
      "\n",
      "Test set: Average loss: 0.0382, Accuracy: 9895/10000 (99%)\n",
      "\n"
     ]
    }
   ],
   "source": [
    "for epoch in range(1, EPOCHS + 1):\n",
    "    train(model, train_loader, optimizer, epoch)\n",
    "    test(model, test_loader)"
   ]
  },
  {
   "cell_type": "code",
   "execution_count": 22,
   "id": "c70ac1ec",
   "metadata": {},
   "outputs": [],
   "source": [
    "MNIST_CNN_PARAM = '../modelparam/MNIST_CNN.pt'"
   ]
  },
  {
   "cell_type": "code",
   "execution_count": 15,
   "id": "0ea2be3b",
   "metadata": {},
   "outputs": [],
   "source": [
    "torch.save(model.state_dict(), MNIST_CNN_PARAM)"
   ]
  },
  {
   "cell_type": "code",
   "execution_count": 16,
   "id": "4e29b2ff",
   "metadata": {},
   "outputs": [],
   "source": [
    "class ConvNet_Left(nn.Module):\n",
    "    def __init__(self):\n",
    "        super().__init__()\n",
    "        # batch*1*28*28（每次会送入batch个样本，输入通道数1（黑白图像），图像分辨率是28x28）\n",
    "        # 下面的卷积层Conv2d的第一个参数指输入通道数，第二个参数指输出通道数，第三个参数指卷积核的大小\n",
    "        self.conv1 = nn.Conv2d(1, 10, 5) # 输入通道数1，输出通道数10，核的大小5\n",
    "        self.conv2 = nn.Conv2d(10, 20, 3) # 输入通道数10，输出通道数20，核的大小3\n",
    "        # 下面的全连接层Linear的第一个参数指输入通道数，第二个参数指输出通道数\n",
    "#         self.fc1 = nn.Linear(20*10*10, 500) # 输入通道数是2000，输出通道数是500\n",
    "#         self.fc2 = nn.Linear(500, 10) # 输入通道数是500，输出通道数是10，即10分类\n",
    "    def forward(self,x):\n",
    "        in_size = x.size(0) # 在本例中in_size=512，也就是BATCH_SIZE的值。输入的x可以看成是512*1*28*28的张量。\n",
    "        out = self.conv1(x) # batch*1*28*28 -> batch*10*24*24（28x28的图像经过一次核为5x5的卷积，输出变为24x24）\n",
    "        out = F.relu(out) # batch*10*24*24（激活函数ReLU不改变形状））\n",
    "        out = F.max_pool2d(out, 2, 2) # batch*10*24*24 -> batch*10*12*12（2*2的池化层会减半）\n",
    "        out = self.conv2(out) # batch*10*12*12 -> batch*20*10*10（再卷积一次，核的大小是3）\n",
    "        out = F.relu(out) # batch*20*10*10\n",
    "        out = out.view(in_size, -1) # batch*20*10*10 -> batch*2000（out的第二维是-1，说明是自动推算，本例中第二维是20*10*10）\n",
    "#         out = self.fc1(out) # batch*2000 -> batch*500\n",
    "#         out = F.relu(out) # batch*500\n",
    "#         out = self.fc2(out) # batch*500 -> batch*10\n",
    "#         out = F.log_softmax(out, dim=1) # 计算log(softmax(x))\n",
    "        return out"
   ]
  },
  {
   "cell_type": "code",
   "execution_count": 37,
   "id": "34c7138c",
   "metadata": {},
   "outputs": [],
   "source": [
    "class ConvNet_Right(nn.Module):\n",
    "    def __init__(self):\n",
    "        super().__init__()\n",
    "        # batch*1*28*28（每次会送入batch个样本，输入通道数1（黑白图像），图像分辨率是28x28）\n",
    "        # 下面的卷积层Conv2d的第一个参数指输入通道数，第二个参数指输出通道数，第三个参数指卷积核的大小\n",
    "#         self.conv1 = nn.Conv2d(1, 10, 5) # 输入通道数1，输出通道数10，核的大小5\n",
    "#         self.conv2 = nn.Conv2d(10, 20, 3) # 输入通道数10，输出通道数20，核的大小3\n",
    "        # 下面的全连接层Linear的第一个参数指输入通道数，第二个参数指输出通道数\n",
    "        self.fc1 = nn.Linear(20*10*10, 500) # 输入通道数是2000，输出通道数是500\n",
    "        self.fc2 = nn.Linear(500, 10) # 输入通道数是500，输出通道数是10，即10分类\n",
    "    def forward(self,x):\n",
    "#         in_size = x.size(0) # 在本例中in_size=512，也就是BATCH_SIZE的值。输入的x可以看成是512*1*28*28的张量。\n",
    "#         out = self.conv1(x) # batch*1*28*28 -> batch*10*24*24（28x28的图像经过一次核为5x5的卷积，输出变为24x24）\n",
    "#         out = F.relu(out) # batch*10*24*24（激活函数ReLU不改变形状））\n",
    "#         out = F.max_pool2d(out, 2, 2) # batch*10*24*24 -> batch*10*12*12（2*2的池化层会减半）\n",
    "#         out = self.conv2(out) # batch*10*12*12 -> batch*20*10*10（再卷积一次，核的大小是3）\n",
    "#         out = F.relu(out) # batch*20*10*10\n",
    "#         out = out.view(in_size, -1) # batch*20*10*10 -> batch*2000（out的第二维是-1，说明是自动推算，本例中第二维是20*10*10）\n",
    "        out = x\n",
    "        out = self.fc1(out) # batch*2000 -> batch*500\n",
    "        out = F.relu(out) # batch*500\n",
    "        out = self.fc2(out) # batch*500 -> batch*10\n",
    "        out = F.log_softmax(out, dim=1) # 计算log(softmax(x))\n",
    "        return out"
   ]
  },
  {
   "cell_type": "code",
   "execution_count": 38,
   "id": "c769308c",
   "metadata": {},
   "outputs": [],
   "source": [
    "model_left = ConvNet_Left()\n",
    "model_right = ConvNet_Right()"
   ]
  },
  {
   "cell_type": "code",
   "execution_count": 39,
   "id": "64494d94",
   "metadata": {},
   "outputs": [
    {
     "data": {
      "text/plain": [
       "_IncompatibleKeys(missing_keys=[], unexpected_keys=['fc1.weight', 'fc1.bias', 'fc2.weight', 'fc2.bias'])"
      ]
     },
     "execution_count": 39,
     "metadata": {},
     "output_type": "execute_result"
    }
   ],
   "source": [
    "model_left.load_state_dict(torch.load(MNIST_CNN_PARAM), strict=False)"
   ]
  },
  {
   "cell_type": "code",
   "execution_count": 40,
   "id": "5eb71fe9",
   "metadata": {},
   "outputs": [
    {
     "data": {
      "text/plain": [
       "_IncompatibleKeys(missing_keys=[], unexpected_keys=['conv1.weight', 'conv1.bias', 'conv2.weight', 'conv2.bias'])"
      ]
     },
     "execution_count": 40,
     "metadata": {},
     "output_type": "execute_result"
    }
   ],
   "source": [
    "model_right.load_state_dict(torch.load(MNIST_CNN_PARAM), strict=False)"
   ]
  },
  {
   "cell_type": "code",
   "execution_count": 41,
   "id": "bb296efa",
   "metadata": {},
   "outputs": [
    {
     "data": {
      "text/plain": [
       "ConvNet_Right(\n",
       "  (fc1): Linear(in_features=2000, out_features=500, bias=True)\n",
       "  (fc2): Linear(in_features=500, out_features=10, bias=True)\n",
       ")"
      ]
     },
     "execution_count": 41,
     "metadata": {},
     "output_type": "execute_result"
    }
   ],
   "source": [
    "model_left.eval()\n",
    "model_right.eval()"
   ]
  },
  {
   "cell_type": "code",
   "execution_count": 48,
   "id": "46086047",
   "metadata": {},
   "outputs": [],
   "source": [
    "dataiter = iter(test_loader)\n",
    "input_data, label = dataiter.next()"
   ]
  },
  {
   "cell_type": "code",
   "execution_count": 57,
   "id": "d7c9e46c",
   "metadata": {},
   "outputs": [
    {
     "name": "stdout",
     "output_type": "stream",
     "text": [
      "tensor([[0.0727, 0.5761, 1.0415,  ..., 0.0000, 0.6017, 0.2611],\n",
      "        [0.0000, 0.0000, 0.0000,  ..., 0.1398, 0.0088, 0.0000],\n",
      "        [0.0000, 0.0000, 0.0000,  ..., 0.0000, 0.1161, 0.1793],\n",
      "        ...,\n",
      "        [0.0000, 0.0000, 0.0000,  ..., 0.1254, 0.1711, 0.0866],\n",
      "        [0.0000, 0.0000, 0.0000,  ..., 0.0000, 0.4771, 0.2859],\n",
      "        [0.0000, 0.0000, 0.0000,  ..., 0.2560, 0.0525, 0.0000]])\n"
     ]
    }
   ],
   "source": [
    "with torch.no_grad():\n",
    "    output = model_left(input_data)\n",
    "    print(output)"
   ]
  },
  {
   "cell_type": "code",
   "execution_count": 58,
   "id": "4e78e124",
   "metadata": {},
   "outputs": [],
   "source": [
    "with torch.no_grad():\n",
    "    output = model_right(output)"
   ]
  },
  {
   "cell_type": "code",
   "execution_count": 51,
   "id": "257f6293",
   "metadata": {},
   "outputs": [],
   "source": [
    "pred = output.max(1, keepdim=True)[1] # 找到概率最大的下标\n",
    "correct = pred.eq(label.view_as(pred)).sum().item()"
   ]
  },
  {
   "cell_type": "code",
   "execution_count": 52,
   "id": "b70c8a5d",
   "metadata": {},
   "outputs": [
    {
     "name": "stdout",
     "output_type": "stream",
     "text": [
      "507\n"
     ]
    }
   ],
   "source": [
    "print(correct)"
   ]
  },
  {
   "cell_type": "code",
   "execution_count": null,
   "id": "e4335e1b",
   "metadata": {},
   "outputs": [],
   "source": []
  }
 ],
 "metadata": {
  "kernelspec": {
   "display_name": "Python 3",
   "language": "python",
   "name": "python3"
  },
  "language_info": {
   "codemirror_mode": {
    "name": "ipython",
    "version": 3
   },
   "file_extension": ".py",
   "mimetype": "text/x-python",
   "name": "python",
   "nbconvert_exporter": "python",
   "pygments_lexer": "ipython3",
   "version": "3.8.10"
  }
 },
 "nbformat": 4,
 "nbformat_minor": 5
}
